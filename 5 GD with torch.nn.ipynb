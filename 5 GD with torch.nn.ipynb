{
 "cells": [
  {
   "cell_type": "markdown",
   "metadata": {},
   "source": [
    "# Gradient descent using pytorch.nn"
   ]
  },
  {
   "cell_type": "code",
   "execution_count": 1,
   "metadata": {},
   "outputs": [
    {
     "ename": "ModuleNotFoundError",
     "evalue": "No module named 'Code'",
     "output_type": "error",
     "traceback": [
      "\u001b[0;31m---------------------------------------------------------------------------\u001b[0m",
      "\u001b[0;31mModuleNotFoundError\u001b[0m                       Traceback (most recent call last)",
      "\u001b[0;32m<ipython-input-1-ef2a690f195a>\u001b[0m in \u001b[0;36m<module>\u001b[0;34m\u001b[0m\n\u001b[1;32m      2\u001b[0m \u001b[0;32mimport\u001b[0m \u001b[0mnumpy\u001b[0m \u001b[0;32mas\u001b[0m \u001b[0mnp\u001b[0m\u001b[0;34m\u001b[0m\u001b[0;34m\u001b[0m\u001b[0m\n\u001b[1;32m      3\u001b[0m \u001b[0;32mimport\u001b[0m \u001b[0mtorch\u001b[0m\u001b[0;34m\u001b[0m\u001b[0;34m\u001b[0m\u001b[0m\n\u001b[0;32m----> 4\u001b[0;31m \u001b[0;32mfrom\u001b[0m \u001b[0mCode\u001b[0m\u001b[0;34m.\u001b[0m\u001b[0mgdtnn\u001b[0m \u001b[0;32mimport\u001b[0m \u001b[0;34m*\u001b[0m\u001b[0;34m\u001b[0m\u001b[0;34m\u001b[0m\u001b[0m\n\u001b[0m",
      "\u001b[0;31mModuleNotFoundError\u001b[0m: No module named 'Code'"
     ]
    }
   ],
   "source": [
    "# Import packages\n",
    "import numpy as np\n",
    "import torch\n",
    "from Code.gdtnn import *"
   ]
  },
  {
   "cell_type": "code",
   "execution_count": null,
   "metadata": {},
   "outputs": [],
   "source": [
    "# Make data\n",
    "n_data = 101\n",
    "x = torch.linspace(-1, 1, n_data).reshape(n_data, 1)\n",
    "\n",
    "# Target functions, from easy to hard\n",
    "y1 = torch.maximum(2 * x, torch.zeros_like(x))\n",
    "y2 = (x - 0.2)**3\n",
    "y3 = np.sin(2 * np.pi * (x + 0.2))\n",
    "y = y1 + y2 + y3\n",
    "\n",
    "# Get cpu or gpu device for training\n",
    "device = \"cuda\" if torch.cuda.is_available() else \"cpu\"\n",
    "print(\"Using {} device\".format(device))\n",
    "x, y = x.to(device), y.to(device)\n",
    "\n",
    "# Make neural net with set number of neurons in hidden layer\n",
    "n_hidden = 10"
   ]
  },
  {
   "cell_type": "code",
   "execution_count": null,
   "metadata": {},
   "outputs": [],
   "source": [
    "# Train grid and non grid models on multiple random functions and compare results\n",
    "n_targets = 10\n",
    "n_models = 10\n",
    "grid_loss_vec = torch.zeros(n_targets)\n",
    "loss_mat = torch.zeros((n_targets, n_models))\n",
    "for t in range(n_targets):\n",
    "    print(f\"target {t}\")\n",
    "    t_weights = torch.randn((1, 3))\n",
    "    y = (t_weights @ torch.stack((y1, y2, y3), dim=1))[:, :, 0].to(device)\n",
    "    model = ToyNN(n_hidden, grid=True).to(device)\n",
    "    data_list, loss_vec = grad_desc(x, y, model, n_data, n_hidden, lr=1e-1, max_it=int(2e3), plot_every=2e2)\n",
    "    data_list, loss_vec = grad_desc(x, y, model, n_data, n_hidden, lr=1e-2, max_it=int(3e3), plot_every=2e2)\n",
    "    plot_animation(y.cpu(), data_list, showlegend=False, title='Grid network output while training')\n",
    "    plot_loss(loss_vec)\n",
    "    grid_loss_vec[t] = loss_vec[-1]\n",
    "    print(f\"grid loss {grid_loss_vec[t]}\")\n",
    "    for m in range(n_models):\n",
    "        print(f\"random model {m}\")\n",
    "        model = ToyNN(n_hidden, grid=False).to(device)\n",
    "        data_list, loss_vec = grad_desc(x, y, model, n_data, n_hidden, lr=1e-1, max_it=int(2e3), plot_every=2e3)\n",
    "        data_list, loss_vec = grad_desc(x, y, model, n_data, n_hidden, lr=1e-2, max_it=int(3e3), plot_every=3e3)\n",
    "        loss_mat[t, m] = loss_vec[-1]\n",
    "    print(f\"random losses {loss_mat[t, :]}\")\n",
    "    print(f\"mean random loss {torch.mean(loss_mat[t, :])}\")\n",
    "print(f\"grid losses {grid_loss_vec}\")\n",
    "print(f\"random average losses {torch.mean(loss_mat, dim=0)}\")\n",
    "print(f\"average grid loss {torch.mean(grid_loss_vec)}\")\n",
    "print(f\"average random loss {torch.mean(loss_mat)}\")"
   ]
  },
  {
   "cell_type": "code",
   "execution_count": null,
   "metadata": {},
   "outputs": [],
   "source": [
    "# Train grid model and show outputs\n",
    "model = ToyNN(n_hidden, grid=True).to(device)\n",
    "data_list, loss_vec = grad_desc(x, y, model, n_data, n_hidden, lr=1e-1, max_it=int(2e3), plot_every=50)\n",
    "plot_animation(y.cpu(), data_list, showlegend=False, title='Network output while training')\n",
    "plot_loss(loss_vec)\n",
    "data_list, loss_vec = grad_desc(x, y, model, n_data, n_hidden, lr=1e-2, max_it=int(3e3), plot_every=50)\n",
    "plot_animation(y.cpu(), data_list, showlegend=False, title='Network output while training')\n",
    "plot_loss(loss_vec)"
   ]
  },
  {
   "cell_type": "code",
   "execution_count": null,
   "metadata": {},
   "outputs": [],
   "source": [
    "# Train regular model and show outputs\n",
    "model = ToyNN(n_hidden, grid=False).to(device)\n",
    "data_list, loss_vec = grad_desc(x, y, model, n_data, n_hidden, lr=1e-1, max_it=int(2e3), plot_every=50)\n",
    "go.Figure(data_list[0], dict(title=\"Initial network output\")).show()\n",
    "plot_animation(y.cpu(), data_list, showlegend=False, title='Network output while training')\n",
    "plot_loss(loss_vec)\n",
    "data_list, loss_vec = grad_desc(x, y, model, n_data, n_hidden, lr=1e-2, max_it=int(3e3), plot_every=50)\n",
    "go.Figure(data_list[0], dict(title=\"Initial network output\")).show()\n",
    "plot_animation(y.cpu(), data_list, showlegend=False, title='Network output while training')\n",
    "plot_loss(loss_vec)"
   ]
  },
  {
   "cell_type": "code",
   "execution_count": null,
   "metadata": {},
   "outputs": [],
   "source": []
  }
 ],
 "metadata": {
  "kernelspec": {
   "display_name": "Python 3",
   "language": "python",
   "name": "python3"
  },
  "language_info": {
   "codemirror_mode": {
    "name": "ipython",
    "version": 3
   },
   "file_extension": ".py",
   "mimetype": "text/x-python",
   "name": "python",
   "nbconvert_exporter": "python",
   "pygments_lexer": "ipython3",
   "version": "3.8.8"
  }
 },
 "nbformat": 4,
 "nbformat_minor": 4
}
